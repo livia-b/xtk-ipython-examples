{
 "metadata": {
  "name": "XTK-panel-example"
 },
 "nbformat": 3,
 "nbformat_minor": 0,
 "worksheets": [
  {
   "cells": [
    {
     "cell_type": "markdown",
     "metadata": {},
     "source": [
      "### Simple XTK Panel view"
     ]
    },
    {
     "cell_type": "code",
     "collapsed": false,
     "input": [
      "from IPython.display import Javascript, display\n",
      "from IPython.core.display import display_javascript, display_html\n",
      "import time\n",
      "\n",
      "# we use the visutils extension to make things a bit easier\n",
      "\n",
      "%install_ext https://raw.github.com/cschin/ipython_d3_mashup/master/extension/visutils.py\n",
      "%reload_ext visutils\n",
      "\n",
      "\n",
      "vis.run_js(\"$.getScript('http://get.goxtk.com/xtk_edge.js')\")\n",
      "vis.run_js(\"$.getScript('https://raw.github.com/cschin/ipython_d3_mashup/master/extension/vis_extension.js')\")\n",
      "time.sleep(2)\n",
      "vis.run_js(\"IPython.vis_init();\")"
     ],
     "language": "python",
     "metadata": {},
     "outputs": [
      {
       "output_type": "stream",
       "stream": "stdout",
       "text": [
        "Installed visutils.py. To use it, type:\n",
        "  %load_ext visutils\n"
       ]
      },
      {
       "javascript": [
        "$.getScript('http://get.goxtk.com/xtk_edge.js')"
       ],
       "output_type": "display_data"
      },
      {
       "javascript": [
        "$.getScript('https://raw.github.com/cschin/ipython_d3_mashup/master/extension/vis_extension.js')"
       ],
       "output_type": "display_data"
      },
      {
       "javascript": [
        "IPython.vis_init();"
       ],
       "output_type": "display_data"
      }
     ],
     "prompt_number": 20
    },
    {
     "cell_type": "code",
     "collapsed": false,
     "input": [
      "# after creating the div, attach the xtk div to it and position\n",
      "\n",
      "js = \"\"\"\n",
      "IPython.vis_init();\n",
      "IPython.vis_utils.insert_vis_cell(\"vis\");\n",
      "var vc = IPython.vis_utils.name_to_viscell[\"vis\"];\n",
      "\"\"\"\n",
      "display_javascript(js, raw=True)\n",
      "display_javascript(\"\"\"$(\"#notebook\").width(800);\"\"\", raw=True)\n"
     ],
     "language": "python",
     "metadata": {},
     "outputs": [
      {
       "javascript": [
        "\n",
        "IPython.vis_init();\n",
        "IPython.vis_utils.insert_vis_cell(\"vis\");\n",
        "var vc = IPython.vis_utils.name_to_viscell[\"vis\"];\n"
       ],
       "output_type": "display_data"
      },
      {
       "javascript": [
        "$(\"#notebook\").width(800);"
       ],
       "output_type": "display_data"
      }
     ],
     "prompt_number": 21
    },
    {
     "cell_type": "code",
     "collapsed": false,
     "input": [
      "# load a mesh (locally, or from a CORS enabled remote host)\n",
      "\n",
      "js = \"\"\"\n",
      "\n",
      "var xtkdiv = $('#vis');\n",
      "xtkdiv.css('background-color','#000000')\n",
      "xtkdiv.css('position', 'absolute')\n",
      "xtkdiv.css('left', '800px');\n",
      "xtkdiv.css('top', '0px');\n",
      "xtkdiv.width(1000).height(900);\n",
      "\n",
      "var r = new X.renderer3D();\n",
      "r.container = \"vis\";\n",
      "r.init();\n",
      "\n",
      "window.xr = r;\n",
      "\n",
      "var m = new X.mesh();\n",
      "m.magicmode = true;\n",
      "m.opacity = 0.50000;\n",
      "m.color = [1.0, 1.0, 0.0];\n",
      "m.file = \"files/smallsurface.vtk\";\n",
      "\n",
      "r.add(m);\n",
      "r.render()\n",
      "\n",
      "\"\"\"\n",
      "display(Javascript(js, lib='http://get.goXTK.com/xtk_edge.js'))\n",
      "\n",
      "# xtk view will now appea on bottom of sceen \n"
     ],
     "language": "python",
     "metadata": {},
     "outputs": [
      {
       "javascript": [
        "$.getScript(\"http://get.goXTK.com/xtk_edge.js\", function () {\n",
        "\n",
        "\n",
        "var xtkdiv = $('#vis');\n",
        "xtkdiv.css('background-color','#000000')\n",
        "xtkdiv.css('position', 'absolute')\n",
        "xtkdiv.css('left', '800px');\n",
        "xtkdiv.css('top', '0px');\n",
        "xtkdiv.width(1000).height(900);\n",
        "\n",
        "var r = new X.renderer3D();\n",
        "r.container = \"vis\";\n",
        "r.init();\n",
        "\n",
        "window.xr = r;\n",
        "\n",
        "var m = new X.mesh();\n",
        "m.magicmode = true;\n",
        "m.opacity = 0.50000;\n",
        "m.color = [1.0, 1.0, 0.0];\n",
        "m.file = \"files/smallsurface.vtk\";\n",
        "\n",
        "r.add(m);\n",
        "r.render()\n",
        "\n",
        "});\n"
       ],
       "output_type": "display_data",
       "text": [
        "<IPython.core.display.Javascript at 0x10faf6110>"
       ]
      }
     ],
     "prompt_number": 22
    },
    {
     "cell_type": "code",
     "collapsed": false,
     "input": [
      "# reapply position to fix \n",
      "\n",
      "js = \"\"\"\n",
      "var xtkdiv = $('#vis');\n",
      "xtkdiv.css('position', 'absolute');\n",
      "\"\"\"\n",
      "display_javascript(js, raw=True)"
     ],
     "language": "python",
     "metadata": {},
     "outputs": [
      {
       "javascript": [
        "\n",
        "var xtkdiv = $('#vis');\n",
        "xtkdiv.css('position', 'absolute');\n"
       ],
       "output_type": "display_data"
      }
     ],
     "prompt_number": 23
    },
    {
     "cell_type": "code",
     "collapsed": false,
     "input": [
      "# work with xtk environment through additional js calls\n",
      "\n",
      "js = \"\"\"\n",
      "\n",
      "//this works if you exchange globals\n",
      "console.log(window.xr);\n",
      "\n",
      "var sphere = new X.sphere();\n",
      "sphere.radius = 15;\n",
      "// the sphere is green\n",
      "sphere.color = [1, 0, 0];\n",
      "sphere.opacity = 0.3;\n",
      "sphere.caption = 'a sphere';\n",
      "\n",
      "window.xr.add(sphere);\n",
      "window.xr.render();\n",
      "\"\"\"\n",
      "\n",
      "display_javascript(js, raw=True)"
     ],
     "language": "python",
     "metadata": {},
     "outputs": [
      {
       "javascript": [
        "\n",
        "\n",
        "//this works if you exchange globals\n",
        "console.log(window.xr);\n",
        "\n",
        "var sphere = new X.sphere();\n",
        "sphere.radius = 15;\n",
        "// the sphere is green\n",
        "sphere.color = [1, 0, 0];\n",
        "sphere.opacity = 0.3;\n",
        "sphere.caption = 'a sphere';\n",
        "\n",
        "window.xr.add(sphere);\n",
        "window.xr.render();\n"
       ],
       "output_type": "display_data"
      }
     ],
     "prompt_number": 24
    },
    {
     "cell_type": "code",
     "collapsed": false,
     "input": [],
     "language": "python",
     "metadata": {},
     "outputs": []
    }
   ],
   "metadata": {}
  }
 ]
}