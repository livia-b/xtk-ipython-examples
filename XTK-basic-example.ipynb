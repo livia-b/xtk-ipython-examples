{
 "cells": [
  {
   "cell_type": "code",
   "execution_count": null,
   "metadata": {
    "collapsed": false
   },
   "outputs": [],
   "source": [
    "# loading from a remote location\n",
    "from IPython.display import Javascript, display\n",
    "js = \"\"\"\n",
    "\n",
    "container.show();\n",
    "console.log(element);\n",
    "var xtkdiv = $('<div/>');\n",
    "xtkdiv.css('background-color','#000').width(400).height(300);\n",
    "xtkdiv.attr('id', 'test');\n",
    "element.append(xtkdiv);\n",
    "\n",
    "var r = new X.renderer3D();\n",
    "r.container = \"test\";\n",
    "r.init();\n",
    "\n",
    "var m = new X.mesh();\n",
    "m.magicmode = true;\n",
    "m.opacity = 0.50000;\n",
    "m.color = [1.0, 1.0, 0.0];\n",
    "m.file = \"http://x.babymri.org/?skull.vtk\";\n",
    "\n",
    "r.add(m);\n",
    "r.render();\n",
    "\n",
    "\"\"\"\n"
   ]
  },
  {
   "cell_type": "code",
   "execution_count": null,
   "metadata": {
    "collapsed": false
   },
   "outputs": [],
   "source": [
    "#display(Javascript(js, lib='http://get.goXTK.com/xtk_edge.js'))"
   ]
  },
  {
   "cell_type": "code",
   "execution_count": null,
   "metadata": {
    "collapsed": false
   },
   "outputs": [],
   "source": []
  },
  {
   "cell_type": "code",
   "execution_count": 20,
   "metadata": {
    "collapsed": false
   },
   "outputs": [
    {
     "data": {
      "application/javascript": [
       "console.log(\"start\");\n",
       "\n",
       "console.log(element);\n",
       "var xtkdiv = $('<div><script type=\"text/javascript\" src=\"http://get.goXTK.com/xtk.js\"></script></div>');\n",
       "xtkdiv.css('background-color','#000').width(400).height(300);\n",
       "xtkdiv.attr('id', 'test2');\n",
       "\n",
       "element.append(xtkdiv);"
      ],
      "text/plain": [
       "<IPython.core.display.Javascript object>"
      ]
     },
     "metadata": {},
     "output_type": "display_data"
    }
   ],
   "source": [
    "%%javascript\n",
    "console.log(\"start\");\n",
    "\n",
    "console.log(element);\n",
    "var xtkdiv = $('<div><script type=\"text/javascript\" src=\"http://get.goXTK.com/xtk.js\"></script></div>');\n",
    "xtkdiv.css('background-color','#000').width(400).height(300);\n",
    "xtkdiv.attr('id', 'test2');\n",
    "\n",
    "element.append(xtkdiv);"
   ]
  },
  {
   "cell_type": "code",
   "execution_count": 21,
   "metadata": {
    "collapsed": false,
    "scrolled": true
   },
   "outputs": [
    {
     "data": {
      "application/javascript": [
       "var r = new X.renderer3D();\n",
       "console.log(r)\n",
       "r.container = 'test2';\n",
       "r.init();\n",
       "\n",
       "var m = new X.mesh();\n",
       "m.magicmode = true;\n",
       "m.opacity = 0.50000;\n",
       "m.color = [1.0, 1.0, 0.0];\n",
       "m.file = \"http://x.babymri.org/?skull.vtk\";\n",
       "\n",
       "r.add(m);\n",
       "r.render();"
      ],
      "text/plain": [
       "<IPython.core.display.Javascript object>"
      ]
     },
     "metadata": {},
     "output_type": "display_data"
    }
   ],
   "source": [
    "%%javascript\n",
    "var r = new X.renderer3D();\n",
    "console.log(r)\n",
    "r.container = 'test2';\n",
    "r.init();\n",
    "\n",
    "var m = new X.mesh();\n",
    "m.magicmode = true;\n",
    "m.opacity = 0.50000;\n",
    "m.color = [1.0, 1.0, 0.0];\n",
    "m.file = \"http://x.babymri.org/?skull.vtk\";\n",
    "\n",
    "r.add(m);\n",
    "r.render();"
   ]
  },
  {
   "cell_type": "code",
   "execution_count": 22,
   "metadata": {
    "collapsed": false
   },
   "outputs": [
    {
     "data": {
      "application/javascript": [
       "console.log(r)"
      ],
      "text/plain": [
       "<IPython.core.display.Javascript object>"
      ]
     },
     "metadata": {},
     "output_type": "display_data"
    }
   ],
   "source": [
    "%%javascript\n",
    "console.log(r)"
   ]
  },
  {
   "cell_type": "code",
   "execution_count": 23,
   "metadata": {
    "collapsed": false
   },
   "outputs": [
    {
     "name": "stderr",
     "output_type": "stream",
     "text": [
      "'git' is not recognized as an internal or external command,\n",
      "operable program or batch file.\n"
     ]
    }
   ],
   "source": [
    "!git\n"
   ]
  },
  {
   "cell_type": "code",
   "execution_count": null,
   "metadata": {
    "collapsed": true
   },
   "outputs": [],
   "source": []
  }
 ],
 "metadata": {
  "kernelspec": {
   "display_name": "Python 2",
   "language": "python",
   "name": "python2"
  },
  "language_info": {
   "codemirror_mode": {
    "name": "ipython",
    "version": 2
   },
   "file_extension": ".py",
   "mimetype": "text/x-python",
   "name": "python",
   "nbconvert_exporter": "python",
   "pygments_lexer": "ipython2",
   "version": "2.7.11"
  }
 },
 "nbformat": 4,
 "nbformat_minor": 0
}
